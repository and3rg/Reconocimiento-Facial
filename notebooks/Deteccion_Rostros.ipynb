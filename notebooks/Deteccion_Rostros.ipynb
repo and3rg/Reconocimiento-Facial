{
 "cells": [
  {
   "cell_type": "code",
   "execution_count": 1,
   "metadata": {},
   "outputs": [],
   "source": [
    "import cv2\n",
    "import os"
   ]
  },
  {
   "cell_type": "code",
   "execution_count": null,
   "metadata": {},
   "outputs": [],
   "source": [
    "# Variable que contendra el nombre de la carpeta correspondiente a la persona\n",
    "personName = 'David' # CAMBIAR DEPENDIENTO LA PERSONA A CAPTURAR\n",
    "path = 'Reconocimiento-Facial/data/processed' # Ruta donde se creara la carpeta correspondiente a la persona\n",
    "personPath = path + '/' + personName\n",
    "\n",
    "if not os.path.exists(personPath):\n",
    "    print('Carpeta creada: ', personPath)\n",
    "    os.makedirs(personPath)\n",
    "\n",
    "# Fuente de video de donde se obtendran los frames\n",
    "cap = cv2.VideoCapture('David.mp4') # CAMBIAR DEPENDIENTO LA PERSONA A CAPTURAR\n",
    "\n",
    "# Para obtener los frames se utilizara un modelo ya preentrenado de OpenCV (Haar Cascade)\n",
    "faceClassif = cv2.CascadeClassifier(cv2.data.haarcascades + 'Reconocimiento-Facial/models/haarcascade_frontalface_default.xml')\n",
    "count = 0\n",
    "\n",
    "while True:\n",
    "    ret, frame = cap.read()\n",
    "    if ret == False: break\n",
    "    frame = cv2.resize(frame, (640, 480), interpolation = cv2.INTER_AREA)\n",
    "    gray = cv2.cvtColor(frame, cv2.COLOR_BGR2GRAY)\n",
    "    auxFrame = frame.copy()\n",
    "    \n",
    "    for (x, y, w, h) in faceClassif.detectMultiScale(gray, 1.3, 5):\n",
    "        cv2.rectangle(frame, (x, y), (x+w, y+h), (0, 255, 0), 2)\n",
    "        rostro = auxFrame[y:y+h, x:x+w]\n",
    "        rostro = cv2.resize(rostro, (150, 150), interpolation = cv2.INTER_CUBIC)\n",
    "        cv2.imwrite(personPath + '/rostro_{}.jpg'.format(count), rostro)\n",
    "        count = count + 1\n",
    "        \n",
    "    cv2.imshow('frame', frame)\n",
    "    \n",
    "    k = cv2.waitKey(1)\n",
    "    if k == 27 or count >= 300:\n",
    "        break\n",
    "    \n",
    "    cap.release()\n",
    "    cv2.destroyAllWindows()\n"
   ]
  }
 ],
 "metadata": {
  "kernelspec": {
   "display_name": "VA",
   "language": "python",
   "name": "python3"
  },
  "language_info": {
   "codemirror_mode": {
    "name": "ipython",
    "version": 3
   },
   "file_extension": ".py",
   "mimetype": "text/x-python",
   "name": "python",
   "nbconvert_exporter": "python",
   "pygments_lexer": "ipython3",
   "version": "3.11.3"
  }
 },
 "nbformat": 4,
 "nbformat_minor": 2
}
