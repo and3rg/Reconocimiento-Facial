{
 "cells": [
  {
   "cell_type": "code",
   "execution_count": 5,
   "metadata": {},
   "outputs": [],
   "source": [
    "# Librerias\n",
    "import cv2\n",
    "import os\n",
    "import imutils"
   ]
  },
  {
   "cell_type": "code",
   "execution_count": 23,
   "metadata": {},
   "outputs": [
    {
     "name": "stdout",
     "output_type": "stream",
     "text": [
      "Carpeta creada: D:\\Ing. Sistemas y Computacion\\Semestre VIII\\Tópicos Especiales I\\VA\\Reconocimiento-Facial\\Reconocimiento-Facial\\data\\preprocessed\\David\n"
     ]
    }
   ],
   "source": [
    "# Nombre de la persona y rutas de las carpetas\n",
    "personName = 'David'\n",
    "dataPath = 'D:\\Ing. Sistemas y Computacion\\Semestre VIII\\Tópicos Especiales I\\VA\\Reconocimiento-Facial\\Reconocimiento-Facial\\data'  # Ruta base para las carpetas de datos\n",
    "\n",
    "videoPath = os.path.join(dataPath, 'D:\\Ing. Sistemas y Computacion\\Semestre VIII\\Tópicos Especiales I\\VA\\Reconocimiento-Facial\\Reconocimiento-Facial\\data\\crudo\\Video-piloto-David.MP4')  # Video de donde se extraerán los rostros\n",
    "preprocessedPath = os.path.join(dataPath, 'D:\\Ing. Sistemas y Computacion\\Semestre VIII\\Tópicos Especiales I\\VA\\Reconocimiento-Facial\\Reconocimiento-Facial\\data\\preprocessed', personName)  # Carpeta para almacenar los recortes\n",
    "\n",
    "# Crear la carpeta 'preprocessed' si no existe\n",
    "if not os.path.exists(preprocessedPath):\n",
    "    print(f'Carpeta creada: {preprocessedPath}')\n",
    "    os.makedirs(preprocessedPath)\n",
    "\n",
    "# Cargar el clasificador Haar para la detección de rostros\n",
    "haar_cascade_path = 'haarcascade_frontalface_default.xml'  # Ruta del archivo Haar Cascade\n",
    "faceClassif = cv2.CascadeClassifier(haar_cascade_path)\n",
    "\n",
    "# Abrir el video\n",
    "cap = cv2.VideoCapture(videoPath)\n",
    "\n",
    "# Contador para las imágenes guardadas\n",
    "count = 0\n",
    "max_images = 300  # Número máximo de imágenes a guardar"
   ]
  },
  {
   "cell_type": "code",
   "execution_count": 24,
   "metadata": {},
   "outputs": [
    {
     "name": "stdout",
     "output_type": "stream",
     "text": [
      "Fin del video o error al leer.\n",
      "Proceso completado. Se han guardado 13 imágenes en D:\\Ing. Sistemas y Computacion\\Semestre VIII\\Tópicos Especiales I\\VA\\Reconocimiento-Facial\\Reconocimiento-Facial\\data\\preprocessed\\David.\n"
     ]
    }
   ],
   "source": [
    "# Bucle de captura de video\n",
    "while cap.isOpened() and count < max_images:\n",
    "    ret, frame = cap.read()\n",
    "    if not ret:\n",
    "        print(\"Fin del video o error al leer.\")\n",
    "        break\n",
    "\n",
    "    # Redimensionar el frame para mejorar el procesamiento\n",
    "    frame = imutils.resize(frame, width=640)\n",
    "    gray = cv2.cvtColor(frame, cv2.COLOR_BGR2GRAY)\n",
    "    auxFrame = frame.copy()\n",
    "\n",
    "    # Detectar rostros\n",
    "    faces = faceClassif.detectMultiScale(gray, scaleFactor=1.3, minNeighbors=5)\n",
    "\n",
    "    # Recortar y guardar los rostros detectados\n",
    "    for (x, y, w, h) in faces:\n",
    "        rostro = auxFrame[y:y + h, x:x + w]\n",
    "        rostro = cv2.resize(rostro, (150, 150), interpolation=cv2.INTER_CUBIC)\n",
    "\n",
    "        # Guardar la imagen en la carpeta preprocessed\n",
    "        img_filename = os.path.join(preprocessedPath, f'rostro_{count}.jpg')\n",
    "        cv2.imwrite(img_filename, rostro)\n",
    "        count += 1\n",
    "\n",
    "    # Mostrar el frame con las detecciones\n",
    "    cv2.imshow('frame', frame)\n",
    "\n",
    "    # Salir con 'ESC' o si se alcanzan 300 imágenes\n",
    "    if cv2.waitKey(1) == 27 or count >= max_images:\n",
    "        break\n",
    "\n",
    "# Liberar el video y cerrar ventanas\n",
    "cap.release()\n",
    "cv2.destroyAllWindows()\n",
    "\n",
    "print(f\"Proceso completado. Se han guardado {count} imágenes en {preprocessedPath}.\")"
   ]
  }
 ],
 "metadata": {
  "kernelspec": {
   "display_name": "VA",
   "language": "python",
   "name": "python3"
  },
  "language_info": {
   "codemirror_mode": {
    "name": "ipython",
    "version": 3
   },
   "file_extension": ".py",
   "mimetype": "text/x-python",
   "name": "python",
   "nbconvert_exporter": "python",
   "pygments_lexer": "ipython3",
   "version": "3.11.3"
  }
 },
 "nbformat": 4,
 "nbformat_minor": 2
}
