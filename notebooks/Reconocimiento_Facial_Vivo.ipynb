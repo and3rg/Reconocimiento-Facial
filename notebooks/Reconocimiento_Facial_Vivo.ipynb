{
 "cells": [
  {
   "cell_type": "code",
   "execution_count": 2,
   "metadata": {},
   "outputs": [],
   "source": [
    "import cv2\n",
    "import numpy as np\n",
    "import pandas as pd\n",
    "from tensorflow.keras.models import load_model\n",
    "from tensorflow.keras.preprocessing import image\n",
    "from datetime import datetime\n",
    "import os"
   ]
  },
  {
   "cell_type": "code",
   "execution_count": 8,
   "metadata": {},
   "outputs": [
    {
     "name": "stderr",
     "output_type": "stream",
     "text": [
      "WARNING:absl:Compiled the loaded model, but the compiled metrics have yet to be built. `model.compile_metrics` will be empty until you train or evaluate the model.\n"
     ]
    }
   ],
   "source": [
    "# Cargar el modelo entrenado\n",
    "model = load_model('../models/reconocimiento_facial_15_personas.h5')\n",
    "\n",
    "# Clase de nombres de las 15 personas\n",
    "class_names = ['David']  # Cambiar según corresponda\n",
    "\n",
    "# Inicializar la cámara web\n",
    "cap = cv2.VideoCapture(0)\n",
    "\n",
    "# Cargar Haar Cascade para la detección de rostros\n",
    "face_cascade = cv2.CascadeClassifier('../models/haarcascade_frontalface_alt.xml')\n",
    "\n",
    "# Crear el archivo .csv si no existe\n",
    "csv_file = '../results/asistencia.csv'\n",
    "\n",
    "if not os.path.exists(csv_file):\n",
    "    # Crear un DataFrame vacío con columnas \"Nombre\" y \"Fecha\"\n",
    "    df = pd.DataFrame(columns=[\"Nombre\", \"Fecha\"])\n",
    "    df.to_csv(csv_file, index=False)"
   ]
  },
  {
   "cell_type": "code",
   "execution_count": 9,
   "metadata": {},
   "outputs": [],
   "source": [
    "# Función para registrar la asistencia en el archivo .csv\n",
    "def registrar_asistencia(nombre_persona):\n",
    "    # Obtener la fecha y hora actual\n",
    "    fecha_actual = datetime.now().strftime('%Y-%m-%d %H:%M:%S')\n",
    "    \n",
    "    # Crear una fila con el nombre de la persona y la fecha actual\n",
    "    nueva_fila = {'Nombre': nombre_persona, 'Fecha': fecha_actual}\n",
    "    \n",
    "    # Leer el archivo .csv existente\n",
    "    df = pd.read_csv(csv_file)\n",
    "    \n",
    "    # Verificar si la persona ya ha sido registrada en la sesión actual\n",
    "    if not ((df['Nombre'] == nombre_persona) & (df['Fecha'].str.startswith(datetime.now().strftime('%Y-%m-%d')))).any():\n",
    "        # Agregar la nueva fila al archivo .csv\n",
    "        df = df.append(nueva_fila, ignore_index=True)\n",
    "        df.to_csv(csv_file, index=False)\n",
    "        print(f'Asistencia registrada para {nombre_persona} a las {fecha_actual}')\n",
    "    else:\n",
    "        print(f'{nombre_persona} ya está registrada hoy.')"
   ]
  },
  {
   "cell_type": "code",
   "execution_count": 10,
   "metadata": {},
   "outputs": [
    {
     "ename": "ValueError",
     "evalue": "Input 0 of layer \"functional_4\" is incompatible with the layer: expected shape=(None, 224, 224, 3), found shape=(1, 150, 150, 3)",
     "output_type": "error",
     "traceback": [
      "\u001b[1;31m---------------------------------------------------------------------------\u001b[0m",
      "\u001b[1;31mValueError\u001b[0m                                Traceback (most recent call last)",
      "Cell \u001b[1;32mIn[10], line 31\u001b[0m\n\u001b[0;32m     28\u001b[0m face_array \u001b[38;5;241m/\u001b[39m\u001b[38;5;241m=\u001b[39m \u001b[38;5;241m255.0\u001b[39m\n\u001b[0;32m     30\u001b[0m \u001b[38;5;66;03m# Realizar predicción\u001b[39;00m\n\u001b[1;32m---> 31\u001b[0m predictions \u001b[38;5;241m=\u001b[39m \u001b[43mmodel\u001b[49m\u001b[38;5;241;43m.\u001b[39;49m\u001b[43mpredict\u001b[49m\u001b[43m(\u001b[49m\u001b[43mface_array\u001b[49m\u001b[43m)\u001b[49m\n\u001b[0;32m     33\u001b[0m \u001b[38;5;66;03m# Obtener el índice de la clase con la mayor probabilidad\u001b[39;00m\n\u001b[0;32m     34\u001b[0m predicted_class \u001b[38;5;241m=\u001b[39m np\u001b[38;5;241m.\u001b[39margmax(predictions)\n",
      "File \u001b[1;32md:\\Ing. Sistemas y Computacion\\Semestre VIII\\Tópicos Especiales I\\VA\\Reconocimiento-Facial\\Reconocimiento-Facial\\VA\\Lib\\site-packages\\keras\\src\\utils\\traceback_utils.py:122\u001b[0m, in \u001b[0;36mfilter_traceback.<locals>.error_handler\u001b[1;34m(*args, **kwargs)\u001b[0m\n\u001b[0;32m    119\u001b[0m     filtered_tb \u001b[38;5;241m=\u001b[39m _process_traceback_frames(e\u001b[38;5;241m.\u001b[39m__traceback__)\n\u001b[0;32m    120\u001b[0m     \u001b[38;5;66;03m# To get the full stack trace, call:\u001b[39;00m\n\u001b[0;32m    121\u001b[0m     \u001b[38;5;66;03m# `keras.config.disable_traceback_filtering()`\u001b[39;00m\n\u001b[1;32m--> 122\u001b[0m     \u001b[38;5;28;01mraise\u001b[39;00m e\u001b[38;5;241m.\u001b[39mwith_traceback(filtered_tb) \u001b[38;5;28;01mfrom\u001b[39;00m \u001b[38;5;28;01mNone\u001b[39;00m\n\u001b[0;32m    123\u001b[0m \u001b[38;5;28;01mfinally\u001b[39;00m:\n\u001b[0;32m    124\u001b[0m     \u001b[38;5;28;01mdel\u001b[39;00m filtered_tb\n",
      "File \u001b[1;32md:\\Ing. Sistemas y Computacion\\Semestre VIII\\Tópicos Especiales I\\VA\\Reconocimiento-Facial\\Reconocimiento-Facial\\VA\\Lib\\site-packages\\keras\\src\\layers\\input_spec.py:245\u001b[0m, in \u001b[0;36massert_input_compatibility\u001b[1;34m(input_spec, inputs, layer_name)\u001b[0m\n\u001b[0;32m    243\u001b[0m \u001b[38;5;28;01mif\u001b[39;00m spec_dim \u001b[38;5;129;01mis\u001b[39;00m \u001b[38;5;129;01mnot\u001b[39;00m \u001b[38;5;28;01mNone\u001b[39;00m \u001b[38;5;129;01mand\u001b[39;00m dim \u001b[38;5;129;01mis\u001b[39;00m \u001b[38;5;129;01mnot\u001b[39;00m \u001b[38;5;28;01mNone\u001b[39;00m:\n\u001b[0;32m    244\u001b[0m     \u001b[38;5;28;01mif\u001b[39;00m spec_dim \u001b[38;5;241m!=\u001b[39m dim:\n\u001b[1;32m--> 245\u001b[0m         \u001b[38;5;28;01mraise\u001b[39;00m \u001b[38;5;167;01mValueError\u001b[39;00m(\n\u001b[0;32m    246\u001b[0m             \u001b[38;5;124mf\u001b[39m\u001b[38;5;124m'\u001b[39m\u001b[38;5;124mInput \u001b[39m\u001b[38;5;132;01m{\u001b[39;00minput_index\u001b[38;5;132;01m}\u001b[39;00m\u001b[38;5;124m of layer \u001b[39m\u001b[38;5;124m\"\u001b[39m\u001b[38;5;132;01m{\u001b[39;00mlayer_name\u001b[38;5;132;01m}\u001b[39;00m\u001b[38;5;124m\"\u001b[39m\u001b[38;5;124m is \u001b[39m\u001b[38;5;124m'\u001b[39m\n\u001b[0;32m    247\u001b[0m             \u001b[38;5;124m\"\u001b[39m\u001b[38;5;124mincompatible with the layer: \u001b[39m\u001b[38;5;124m\"\u001b[39m\n\u001b[0;32m    248\u001b[0m             \u001b[38;5;124mf\u001b[39m\u001b[38;5;124m\"\u001b[39m\u001b[38;5;124mexpected shape=\u001b[39m\u001b[38;5;132;01m{\u001b[39;00mspec\u001b[38;5;241m.\u001b[39mshape\u001b[38;5;132;01m}\u001b[39;00m\u001b[38;5;124m, \u001b[39m\u001b[38;5;124m\"\u001b[39m\n\u001b[0;32m    249\u001b[0m             \u001b[38;5;124mf\u001b[39m\u001b[38;5;124m\"\u001b[39m\u001b[38;5;124mfound shape=\u001b[39m\u001b[38;5;132;01m{\u001b[39;00mshape\u001b[38;5;132;01m}\u001b[39;00m\u001b[38;5;124m\"\u001b[39m\n\u001b[0;32m    250\u001b[0m         )\n",
      "\u001b[1;31mValueError\u001b[0m: Input 0 of layer \"functional_4\" is incompatible with the layer: expected shape=(None, 224, 224, 3), found shape=(1, 150, 150, 3)"
     ]
    },
    {
     "ename": "",
     "evalue": "",
     "output_type": "error",
     "traceback": [
      "\u001b[1;31mThe Kernel crashed while executing code in the current cell or a previous cell. \n",
      "\u001b[1;31mPlease review the code in the cell(s) to identify a possible cause of the failure. \n",
      "\u001b[1;31mClick <a href='https://aka.ms/vscodeJupyterKernelCrash'>here</a> for more info. \n",
      "\u001b[1;31mView Jupyter <a href='command:jupyter.viewOutput'>log</a> for further details."
     ]
    }
   ],
   "source": [
    "while True:\n",
    "    ret, frame = cap.read()\n",
    "    \n",
    "    if not ret:\n",
    "        print(\"No se puede acceder a la cámara\")\n",
    "        break\n",
    "    \n",
    "    # Convertir a escala de grises\n",
    "    gray = cv2.cvtColor(frame, cv2.COLOR_BGR2GRAY)\n",
    "    \n",
    "    # Detectar rostros\n",
    "    faces = face_cascade.detectMultiScale(gray, scaleFactor=1.1, minNeighbors=5, minSize=(30, 30))\n",
    "    \n",
    "    # Procesar cada rostro detectado\n",
    "    for (x, y, w, h) in faces:\n",
    "        # Dibujar un rectángulo alrededor del rostro\n",
    "        cv2.rectangle(frame, (x, y), (x+w, y+h), (0, 255, 0), 2)\n",
    "        \n",
    "        # Recortar el rostro de la imagen original\n",
    "        face = frame[y:y+h, x:x+w]\n",
    "        \n",
    "        # Preprocesar el rostro\n",
    "        face_resized = cv2.resize(face, (150, 150))  # Ajustar al tamaño que espera el modelo\n",
    "        face_array = image.img_to_array(face_resized)\n",
    "        face_array = np.expand_dims(face_array, axis=0)  # Añadir una dimensión para el lote\n",
    "        \n",
    "        # Normalizar el valor de los píxeles si es necesario (esto depende del preprocesamiento utilizado en el modelo)\n",
    "        face_array /= 255.0\n",
    "        \n",
    "        # Realizar predicción\n",
    "        predictions = model.predict(face_array)\n",
    "        \n",
    "        # Obtener el índice de la clase con la mayor probabilidad\n",
    "        predicted_class = np.argmax(predictions)\n",
    "        \n",
    "        # Obtener el nombre de la persona\n",
    "        person_name = class_names[predicted_class]\n",
    "        \n",
    "        # Mostrar el nombre sobre el rostro en el video\n",
    "        cv2.putText(frame, person_name, (x, y - 10), cv2.FONT_HERSHEY_SIMPLEX, 0.9, (0, 255, 0), 2)\n",
    "        \n",
    "        # Registrar la asistencia de la persona\n",
    "        registrar_asistencia(person_name)\n",
    "    \n",
    "    # Mostrar el video en tiempo real\n",
    "    cv2.imshow('Reconocimiento Facial en Tiempo Real', frame)\n",
    "    \n",
    "    # Salir del bucle si se presiona la tecla 'q'\n",
    "    if cv2.waitKey(1) & 0xFF == ord('q'):\n",
    "        break\n",
    "\n",
    "# Liberar la cámara y cerrar las ventanas\n",
    "cap.release()\n",
    "cv2.destroyAllWindows()"
   ]
  }
 ],
 "metadata": {
  "kernelspec": {
   "display_name": "VA",
   "language": "python",
   "name": "python3"
  },
  "language_info": {
   "codemirror_mode": {
    "name": "ipython",
    "version": 3
   },
   "file_extension": ".py",
   "mimetype": "text/x-python",
   "name": "python",
   "nbconvert_exporter": "python",
   "pygments_lexer": "ipython3",
   "version": "3.11.3"
  }
 },
 "nbformat": 4,
 "nbformat_minor": 2
}
